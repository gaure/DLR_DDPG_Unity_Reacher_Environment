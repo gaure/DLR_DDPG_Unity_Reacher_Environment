{
 "cells": [
  {
   "cell_type": "markdown",
   "metadata": {},
   "source": [
    "# Continuous Control\n",
    "\n",
    "---\n",
    "\n",
    "In this notebook, you will learn how to use the Unity ML-Agents environment for the second project of the [Deep Reinforcement Learning Nanodegree](https://www.udacity.com/course/deep-reinforcement-learning-nanodegree--nd893) program.\n",
    "\n",
    "### 1. Start the Environment\n",
    "\n",
    "We begin by importing the necessary packages.  If the code cell below returns an error, please revisit the project instructions to double-check that you have installed [Unity ML-Agents](https://github.com/Unity-Technologies/ml-agents/blob/master/docs/Installation.md) and [NumPy](http://www.numpy.org/)."
   ]
  },
  {
   "cell_type": "code",
   "execution_count": 1,
   "metadata": {},
   "outputs": [],
   "source": [
    "from unityagents import UnityEnvironment\n",
    "import numpy as np"
   ]
  },
  {
   "cell_type": "markdown",
   "metadata": {},
   "source": [
    "Next, we will start the environment!  **_Before running the code cell below_**, change the `file_name` parameter to match the location of the Unity environment that you downloaded.\n",
    "\n",
    "- **Mac**: `\"path/to/Reacher.app\"`\n",
    "- **Windows** (x86): `\"path/to/Reacher_Windows_x86/Reacher.exe\"`\n",
    "- **Windows** (x86_64): `\"path/to/Reacher_Windows_x86_64/Reacher.exe\"`\n",
    "- **Linux** (x86): `\"path/to/Reacher_Linux/Reacher.x86\"`\n",
    "- **Linux** (x86_64): `\"path/to/Reacher_Linux/Reacher.x86_64\"`\n",
    "- **Linux** (x86, headless): `\"path/to/Reacher_Linux_NoVis/Reacher.x86\"`\n",
    "- **Linux** (x86_64, headless): `\"path/to/Reacher_Linux_NoVis/Reacher.x86_64\"`\n",
    "\n",
    "For instance, if you are using a Mac, then you downloaded `Reacher.app`.  If this file is in the same folder as the notebook, then the line below should appear as follows:\n",
    "```\n",
    "env = UnityEnvironment(file_name=\"Reacher.app\")\n",
    "```"
   ]
  },
  {
   "cell_type": "code",
   "execution_count": 2,
   "metadata": {
    "scrolled": true
   },
   "outputs": [
    {
     "name": "stderr",
     "output_type": "stream",
     "text": [
      "INFO:unityagents:\n",
      "'Academy' started successfully!\n",
      "Unity Academy name: Academy\n",
      "        Number of Brains: 1\n",
      "        Number of External Brains : 1\n",
      "        Lesson number : 0\n",
      "        Reset Parameters :\n",
      "\t\tgoal_speed -> 1.0\n",
      "\t\tgoal_size -> 5.0\n",
      "Unity brain name: ReacherBrain\n",
      "        Number of Visual Observations (per agent): 0\n",
      "        Vector Observation space type: continuous\n",
      "        Vector Observation space size (per agent): 33\n",
      "        Number of stacked Vector Observation: 1\n",
      "        Vector Action space type: continuous\n",
      "        Vector Action space size (per agent): 4\n",
      "        Vector Action descriptions: , , , \n"
     ]
    }
   ],
   "source": [
    "env = UnityEnvironment(file_name='./Reacher_Linux/Reacher.x86_64')"
   ]
  },
  {
   "cell_type": "markdown",
   "metadata": {},
   "source": [
    "Environments contain **_brains_** which are responsible for deciding the actions of their associated agents. Here we check for the first brain available, and set it as the default brain we will be controlling from Python."
   ]
  },
  {
   "cell_type": "code",
   "execution_count": 3,
   "metadata": {},
   "outputs": [
    {
     "name": "stdout",
     "output_type": "stream",
     "text": [
      "Brain 0 name:  ReacherBrain\n",
      "This environment only has one brain so there is not such thing as brian_name[1]\n"
     ]
    }
   ],
   "source": [
    "# get the default brain\n",
    "brain_name = env.brain_names[0]\n",
    "print(\"Brain 0 name: \",brain_name)\n",
    "print(\"This environment only has one brain so there is not such thing as brian_name[1]\")\n",
    "brain = env.brains[brain_name]"
   ]
  },
  {
   "cell_type": "markdown",
   "metadata": {},
   "source": [
    "### 2. Examine the State and Action Spaces\n",
    "\n",
    "In this environment, a double-jointed arm can move to target locations. A reward of `+0.1` is provided for each step that the agent's hand is in the goal location. Thus, the goal of your agent is to maintain its position at the target location for as many time steps as possible.\n",
    "\n",
    "The observation space consists of `33` variables corresponding to position, rotation, velocity, and angular velocities of the arm.  Each action is a vector with four numbers, corresponding to torque applicable to two joints.  Every entry in the action vector must be a number between `-1` and `1`.\n",
    "\n",
    "Run the code cell below to print some information about the environment."
   ]
  },
  {
   "cell_type": "code",
   "execution_count": 5,
   "metadata": {},
   "outputs": [
    {
     "name": "stdout",
     "output_type": "stream",
     "text": [
      "Number of agents: 1\n",
      "Size of each action: 4\n"
     ]
    },
    {
     "ename": "AttributeError",
     "evalue": "'BrainParameters' object has no attribute 'vector_state_space_size'",
     "output_type": "error",
     "traceback": [
      "\u001b[0;31m---------------------------------------------------------------------------\u001b[0m",
      "\u001b[0;31mAttributeError\u001b[0m                            Traceback (most recent call last)",
      "\u001b[0;32m<ipython-input-5-5715ee669be0>\u001b[0m in \u001b[0;36m<module>\u001b[0;34m\u001b[0m\n\u001b[1;32m     11\u001b[0m \u001b[0;34m\u001b[0m\u001b[0m\n\u001b[1;32m     12\u001b[0m \u001b[0;31m# examine the state space\u001b[0m\u001b[0;34m\u001b[0m\u001b[0;34m\u001b[0m\u001b[0m\n\u001b[0;32m---> 13\u001b[0;31m \u001b[0mstates\u001b[0m \u001b[0;34m=\u001b[0m \u001b[0mbrain\u001b[0m\u001b[0;34m.\u001b[0m\u001b[0mvector_state_space_size\u001b[0m\u001b[0;34m\u001b[0m\u001b[0m\n\u001b[0m\u001b[1;32m     14\u001b[0m \u001b[0mstate_size\u001b[0m \u001b[0;34m=\u001b[0m \u001b[0mstates\u001b[0m\u001b[0;34m.\u001b[0m\u001b[0mshape\u001b[0m\u001b[0;34m[\u001b[0m\u001b[0;36m1\u001b[0m\u001b[0;34m]\u001b[0m\u001b[0;34m\u001b[0m\u001b[0m\n\u001b[1;32m     15\u001b[0m \u001b[0mprint\u001b[0m\u001b[0;34m(\u001b[0m\u001b[0;34m\"Action size: \"\u001b[0m\u001b[0;34m,\u001b[0m \u001b[0maction_size\u001b[0m\u001b[0;34m)\u001b[0m\u001b[0;34m\u001b[0m\u001b[0m\n",
      "\u001b[0;31mAttributeError\u001b[0m: 'BrainParameters' object has no attribute 'vector_state_space_size'"
     ]
    }
   ],
   "source": [
    "# reset the environment\n",
    "env_info = env.reset(train_mode=True)[brain_name]\n",
    "\n",
    "# number of agents\n",
    "num_agents = len(env_info.agents)\n",
    "print('Number of agents:', num_agents)\n",
    "\n",
    "# size of each action\n",
    "action_size = brain.vector_action_space_size\n",
    "print('Size of each action:', action_size)\n",
    "\n",
    "# examine the state space \n",
    "states = env_info.vector_observations\n",
    "state_size = states.shape[1]\n",
    "print(\"Action size: \", action_size)\n",
    "print(\"The state shape: \",states.shape)\n",
    "print('There are {} agents. Each observes a state with length: {}'.format(states.shape[0], state_size))\n",
    "print('The state for the first agent looks like:', states[0])"
   ]
  },
  {
   "cell_type": "markdown",
   "metadata": {},
   "source": [
    "### 3. Take Random Actions in the Environment\n",
    "\n",
    "In the next code cell, you will learn how to use the Python API to control the agent and receive feedback from the environment.\n",
    "\n",
    "Once this cell is executed, you will watch the agent's performance, if it selects an action at random with each time step.  A window should pop up that allows you to observe the agent, as it moves through the environment.  \n",
    "\n",
    "Of course, as part of the project, you'll have to change the code so that the agent is able to use its experience to gradually choose better actions when interacting with the environment!"
   ]
  },
  {
   "cell_type": "code",
   "execution_count": null,
   "metadata": {},
   "outputs": [],
   "source": [
    "env_info = env.reset(train_mode=False)[brain_name]     # reset the environment    \n",
    "states = env_info.vector_observations                  # get the current state (for each agent)\n",
    "scores = np.zeros(num_agents)                          # initialize the score (for each agent)\n",
    "while True:\n",
    "    actions = np.random.randn(num_agents, action_size) # select an action (for each agent)\n",
    "    actions = np.clip(actions, -1, 1)                  # all actions between -1 and 1\n",
    "    env_info = env.step(actions)[brain_name]           # send all actions to tne environment\n",
    "    next_states = env_info.vector_observations         # get next state (for each agent)\n",
    "    rewards = env_info.rewards                         # get reward (for each agent)\n",
    "    dones = env_info.local_done                        # see if episode finished\n",
    "    scores += env_info.rewards                         # update the score (for each agent)\n",
    "    states = next_states                               # roll over states to next time step\n",
    "    if np.any(dones):                                  # exit loop if episode finished\n",
    "        break\n",
    "print('Total score (averaged over agents) this episode: {}'.format(np.mean(scores)))"
   ]
  },
  {
   "cell_type": "markdown",
   "metadata": {},
   "source": [
    "When finished, you can close the environment."
   ]
  },
  {
   "cell_type": "code",
   "execution_count": 9,
   "metadata": {},
   "outputs": [],
   "source": [
    "env.close()"
   ]
  },
  {
   "cell_type": "markdown",
   "metadata": {},
   "source": [
    "### 4. It's Your Turn!\n",
    "\n",
    "Now it's your turn to train your own agent to solve the environment!  When training the environment, set `train_mode=True`, so that the line for resetting the environment looks like the following:\n",
    "```python\n",
    "env_info = env.reset(train_mode=True)[brain_name]\n",
    "```"
   ]
  },
  {
   "cell_type": "code",
   "execution_count": 1,
   "metadata": {
    "scrolled": true
   },
   "outputs": [
    {
     "name": "stderr",
     "output_type": "stream",
     "text": [
      "INFO:unityagents:\n",
      "'Academy' started successfully!\n",
      "Unity Academy name: Academy\n",
      "        Number of Brains: 1\n",
      "        Number of External Brains : 1\n",
      "        Lesson number : 0\n",
      "        Reset Parameters :\n",
      "\t\tgoal_size -> 5.0\n",
      "\t\tgoal_speed -> 1.0\n",
      "Unity brain name: ReacherBrain\n",
      "        Number of Visual Observations (per agent): 0\n",
      "        Vector Observation space type: continuous\n",
      "        Vector Observation space size (per agent): 33\n",
      "        Number of stacked Vector Observation: 1\n",
      "        Vector Action space type: continuous\n",
      "        Vector Action space size (per agent): 4\n",
      "        Vector Action descriptions: , , , \n"
     ]
    }
   ],
   "source": [
    "from unityagents import UnityEnvironment\n",
    "import numpy as np\n",
    "env = UnityEnvironment(file_name='./Reacher_Linux/Reacher.x86_64', no_graphics=True)\n",
    "#env = UnityEnvironment(file_name='./Reacher_Linux/Reacher.x86_64')\n",
    "brain_name = env.brain_names[0]\n",
    "brain = env.brains[brain_name]\n",
    "env_info = env.reset(train_mode=False)[brain_name] \n"
   ]
  },
  {
   "cell_type": "code",
   "execution_count": 2,
   "metadata": {
    "scrolled": true
   },
   "outputs": [],
   "source": [
    "# Instantiating the agent that will control the default brain\n",
    "from ddpg_agent import AgentDDPG\n",
    "action_size = brain.vector_action_space_size\n",
    "states = env_info.vector_observations\n",
    "state_size = states.shape[1]\n",
    "agent = AgentDDPG(state_size=state_size, action_size=action_size, seed=0)"
   ]
  },
  {
   "cell_type": "code",
   "execution_count": 3,
   "metadata": {
    "scrolled": false
   },
   "outputs": [
    {
     "name": "stdout",
     "output_type": "stream",
     "text": [
      "Episode 10\tAverage Score so far: 0.10\n",
      "Episode 20\tAverage Score so far: 0.15\n",
      "Episode 30\tAverage Score so far: 0.12\n",
      "Episode 40\tAverage Score so far: 0.14\n",
      "Episode 50\tAverage Score so far: 0.13\n",
      "Episode 60\tAverage Score so far: 0.11\n",
      "Episode 70\tAverage Score so far: 0.11\n",
      "Episode 80\tAverage Score so far: 0.11\n",
      "Episode 90\tAverage Score so far: 0.11\n",
      "Episode 100\tAverage Score so far: 0.11\n",
      "Episode 110\tAverage Score so far: 0.11\n",
      "Episode 120\tAverage Score so far: 0.11\n",
      "Episode 130\tAverage Score so far: 0.11\n",
      "Episode 140\tAverage Score so far: 0.11\n",
      "Episode 150\tAverage Score so far: 0.12\n",
      "Episode 160\tAverage Score so far: 0.13\n",
      "Episode 170\tAverage Score so far: 0.13\n",
      "Episode 180\tAverage Score so far: 0.13\n",
      "Episode 190\tAverage Score so far: 0.13\n",
      "Episode 200\tAverage Score so far: 0.13\n",
      "Episode 210\tAverage Score so far: 0.13\n",
      "Episode 220\tAverage Score so far: 0.13\n",
      "Episode 230\tAverage Score so far: 0.14\n",
      "Episode 240\tAverage Score so far: 0.14\n",
      "Episode 250\tAverage Score so far: 0.14\n",
      "Episode 260\tAverage Score so far: 0.14\n",
      "Episode 270\tAverage Score so far: 0.14\n",
      "Episode 280\tAverage Score so far: 0.14\n",
      "Episode 290\tAverage Score so far: 0.14\n",
      "Episode 300\tAverage Score so far: 0.14\n",
      "Episode 310\tAverage Score so far: 0.14\n",
      "Episode 320\tAverage Score so far: 0.14\n",
      "Episode 330\tAverage Score so far: 0.15\n",
      "Episode 340\tAverage Score so far: 0.15\n",
      "Episode 350\tAverage Score so far: 0.16\n",
      "Episode 360\tAverage Score so far: 0.16\n",
      "Episode 370\tAverage Score so far: 0.16\n",
      "Episode 380\tAverage Score so far: 0.16\n",
      "Episode 390\tAverage Score so far: 0.16\n",
      "Episode 400\tAverage Score so far: 0.16\n",
      "Episode 410\tAverage Score so far: 0.16\n",
      "Episode 420\tAverage Score so far: 0.16\n",
      "Episode 430\tAverage Score so far: 0.16\n",
      "Episode 440\tAverage Score so far: 0.16\n",
      "Episode 450\tAverage Score so far: 0.16\n",
      "Episode 460\tAverage Score so far: 0.16\n",
      "Episode 470\tAverage Score so far: 0.16\n",
      "Episode 480\tAverage Score so far: 0.16\n",
      "Episode 490\tAverage Score so far: 0.16\n",
      "Episode 500\tAverage Score so far: 0.16\n",
      "Episode 510\tAverage Score so far: 0.16\n",
      "Episode 520\tAverage Score so far: 0.16\n",
      "Episode 530\tAverage Score so far: 0.16\n",
      "Episode 540\tAverage Score so far: 0.16\n",
      "Episode 550\tAverage Score so far: 0.16\n",
      "Episode 560\tAverage Score so far: 0.16\n",
      "Episode 570\tAverage Score so far: 0.16\n",
      "Episode 580\tAverage Score so far: 0.16\n",
      "Episode 590\tAverage Score so far: 0.16\n",
      "Episode 600\tAverage Score so far: 0.16\n",
      "Episode 610\tAverage Score so far: 0.16\n",
      "Episode 620\tAverage Score so far: 0.16\n",
      "Episode 630\tAverage Score so far: 0.15\n",
      "Episode 640\tAverage Score so far: 0.15\n",
      "Episode 650\tAverage Score so far: 0.15\n",
      "Episode 660\tAverage Score so far: 0.15\n",
      "Episode 670\tAverage Score so far: 0.15\n",
      "Episode 680\tAverage Score so far: 0.15\n",
      "Episode 690\tAverage Score so far: 0.15\n",
      "Episode 700\tAverage Score so far: 0.15\n",
      "Episode 710\tAverage Score so far: 0.15\n",
      "Episode 720\tAverage Score so far: 0.15\n",
      "Episode 730\tAverage Score so far: 0.14\n",
      "Episode 740\tAverage Score so far: 0.14\n",
      "Episode 750\tAverage Score so far: 0.14\n",
      "Episode 760\tAverage Score so far: 0.14\n",
      "Episode 770\tAverage Score so far: 0.14\n",
      "Episode 780\tAverage Score so far: 0.14\n",
      "Episode 790\tAverage Score so far: 0.14\n",
      "Episode 800\tAverage Score so far: 0.14\n",
      "Episode 810\tAverage Score so far: 0.14\n",
      "Episode 820\tAverage Score so far: 0.14\n",
      "Episode 830\tAverage Score so far: 0.14\n",
      "Episode 840\tAverage Score so far: 0.14\n",
      "Episode 850\tAverage Score so far: 0.14\n",
      "Episode 860\tAverage Score so far: 0.13\n",
      "Episode 870\tAverage Score so far: 0.13\n",
      "Episode 880\tAverage Score so far: 0.13\n",
      "Episode 890\tAverage Score so far: 0.13\n",
      "Episode 900\tAverage Score so far: 0.13\n",
      "Episode 910\tAverage Score so far: 0.13\n",
      "Episode 920\tAverage Score so far: 0.13\n",
      "Episode 930\tAverage Score so far: 0.13\n",
      "Episode 940\tAverage Score so far: 0.13\n",
      "Episode 950\tAverage Score so far: 0.13\n",
      "Episode 960\tAverage Score so far: 0.13\n",
      "Episode 970\tAverage Score so far: 0.12\n",
      "Episode 980\tAverage Score so far: 0.12\n",
      "Episode 990\tAverage Score so far: 0.12\n"
     ]
    }
   ],
   "source": [
    "# Define the monitoring metric\n",
    "from collections import deque\n",
    "scores = []\n",
    "scores_window = deque(maxlen=300)\n",
    "for i_episodes in range(1, 1000):\n",
    "    env_info = env.reset(train_mode=True)[brain_name]\n",
    "    state = env_info.vector_observations\n",
    "    score = 0\n",
    "    # 1000 steps is 100 updates per episode if update every 10 steps\n",
    "    for step in range(200):\n",
    "        action = agent.act(state)\n",
    "        env_info = env.step(action)[brain_name]\n",
    "        next_state = env_info.vector_observations[0]\n",
    "        reward = env_info.rewards[0]\n",
    "        done = env_info.local_done[0]\n",
    "        agent.step(state, action, reward, next_state,done)\n",
    "        state = next_state\n",
    "        score += reward\n",
    "        if done:\n",
    "            break\n",
    "    scores_window.append(score)\n",
    "    scores.append(score)\n",
    "    if i_episodes % 10 == 0:\n",
    "            print('Episode {}\\tAverage Score so far: {:.2f}'.format(i_episodes,\n",
    "                                                              np.mean(scores)))\n",
    "    if np.mean(scores_window) >= 30.0:\n",
    "            print('\\nEnvironment solved in {:d} episodes!\\tAverage Score: {:.2f}'.format(i_episodes-100,\n",
    "                                                                                        np.mean(scores_window)))\n",
    "            # saved the DL weights and architecture that solve the problem\n",
    "            agent.save_model_weights()\n",
    "            env.close()"
   ]
  },
  {
   "cell_type": "code",
   "execution_count": 4,
   "metadata": {},
   "outputs": [
    {
     "data": {
      "image/png": "[encoded data removed]",
      "text/plain": [
       "<Figure size 432x288 with 1 Axes>"
      ]
     },
     "metadata": {
      "needs_background": "light"
     },
     "output_type": "display_data"
    }
   ],
   "source": [
    "# saved the DL weights and architecture that solve the problem\n",
    "import torch\n",
    "import matplotlib.pyplot as plt\n",
    "%matplotlib inline\n",
    "\n",
    "# plot the scores\n",
    "fig = plt.figure()\n",
    "ax = fig.add_subplot(111)\n",
    "plt.plot(np.arange(len(scores)), scores)\n",
    "plt.ylabel('Score')\n",
    "plt.xlabel('Episode #')\n",
    "plt.show()\n"
   ]
  },
  {
   "cell_type": "code",
   "execution_count": null,
   "metadata": {},
   "outputs": [],
   "source": []
  }
 ],
 "metadata": {
  "kernelspec": {
   "display_name": "Python 3",
   "language": "python",
   "name": "python3"
  },
  "language_info": {
   "codemirror_mode": {
    "name": "ipython",
    "version": 3
   },
   "file_extension": ".py",
   "mimetype": "text/x-python",
   "name": "python",
   "nbconvert_exporter": "python",
   "pygments_lexer": "ipython3",
   "version": "3.6.6"
  }
 },
 "nbformat": 4,
 "nbformat_minor": 2
}
